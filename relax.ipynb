{
 "cells": [
  {
   "cell_type": "code",
   "execution_count": 55,
   "id": "4b45bab3",
   "metadata": {},
   "outputs": [],
   "source": [
    "# Imports\n",
    "import pandas as pd\n",
    "import seaborn as sns\n",
    "import matplotlib.pyplot as plt\n",
    "from sklearn.model_selection import train_test_split\n",
    "from sklearn.linear_model import LogisticRegression\n",
    "from sklearn.ensemble import RandomForestClassifier\n",
    "from sklearn.preprocessing import StandardScaler\n",
    "from sklearn.pipeline import Pipeline\n",
    "from sklearn.metrics import classification_report, confusion_matrix, roc_auc_score"
   ]
  },
  {
   "cell_type": "code",
   "execution_count": null,
   "id": "dd04d1f6",
   "metadata": {},
   "outputs": [],
   "source": [
    "# Import data into dataframes\n",
    "users_df = pd.read_csv('takehome_users.csv', encoding='latin1')\n",
    "engagement_df = pd.read_csv('takehome_user_engagement.csv', encoding='latin1')"
   ]
  },
  {
   "cell_type": "code",
   "execution_count": 4,
   "id": "46e8d500",
   "metadata": {},
   "outputs": [
    {
     "name": "stdout",
     "output_type": "stream",
     "text": [
      "   object_id        creation_time               name  \\\n",
      "0          1  2014-04-22 03:53:30     Clausen August   \n",
      "1          2  2013-11-15 03:45:04      Poole Matthew   \n",
      "2          3  2013-03-19 23:14:52  Bottrill Mitchell   \n",
      "3          4  2013-05-21 08:09:28    Clausen Nicklas   \n",
      "4          5  2013-01-17 10:14:20          Raw Grace   \n",
      "\n",
      "                        email creation_source  last_session_creation_time  \\\n",
      "0    AugustCClausen@yahoo.com    GUEST_INVITE                1.398139e+09   \n",
      "1      MatthewPoole@gustr.com      ORG_INVITE                1.396238e+09   \n",
      "2  MitchellBottrill@gustr.com      ORG_INVITE                1.363735e+09   \n",
      "3   NicklasSClausen@yahoo.com    GUEST_INVITE                1.369210e+09   \n",
      "4          GraceRaw@yahoo.com    GUEST_INVITE                1.358850e+09   \n",
      "\n",
      "   opted_in_to_mailing_list  enabled_for_marketing_drip  org_id  \\\n",
      "0                         1                           0      11   \n",
      "1                         0                           0       1   \n",
      "2                         0                           0      94   \n",
      "3                         0                           0       1   \n",
      "4                         0                           0     193   \n",
      "\n",
      "   invited_by_user_id  \n",
      "0             10803.0  \n",
      "1               316.0  \n",
      "2              1525.0  \n",
      "3              5151.0  \n",
      "4              5240.0  \n",
      "(12000, 10)\n",
      "            time_stamp  user_id  visited\n",
      "0  2014-04-22 03:53:30        1        1\n",
      "1  2013-11-15 03:45:04        2        1\n",
      "2  2013-11-29 03:45:04        2        1\n",
      "3  2013-12-09 03:45:04        2        1\n",
      "4  2013-12-25 03:45:04        2        1\n",
      "(207917, 3)\n"
     ]
    }
   ],
   "source": [
    "# Head and shape\n",
    "print(users_df.head())\n",
    "print(users_df.shape)\n",
    "\n",
    "print(engagement_df.head())\n",
    "print(engagement_df.shape)"
   ]
  },
  {
   "cell_type": "code",
   "execution_count": 5,
   "id": "e30ca215",
   "metadata": {},
   "outputs": [
    {
     "name": "stdout",
     "output_type": "stream",
     "text": [
      "object_id                       int64\n",
      "creation_time                  object\n",
      "name                           object\n",
      "email                          object\n",
      "creation_source                object\n",
      "last_session_creation_time    float64\n",
      "opted_in_to_mailing_list        int64\n",
      "enabled_for_marketing_drip      int64\n",
      "org_id                          int64\n",
      "invited_by_user_id            float64\n",
      "dtype: object\n",
      "time_stamp    object\n",
      "user_id        int64\n",
      "visited        int64\n",
      "dtype: object\n"
     ]
    }
   ],
   "source": [
    "# dtypes of dataframes\n",
    "print(users_df.dtypes)\n",
    "print(engagement_df.dtypes)"
   ]
  },
  {
   "cell_type": "code",
   "execution_count": null,
   "id": "458aa918",
   "metadata": {},
   "outputs": [],
   "source": [
    "# Convert creation_time from string to datetime\n",
    "users_df['creation_time'] = pd.to_datetime(users_df['creation_time'])\n",
    "# Convert last_session_creation_time from float to datetime\n",
    "users_df['last_session_creation_time'] = pd.to_datetime(users_df['last_session_creation_time'], unit='s')\n",
    "\n",
    "# Convert time_stamp in engagement_df from string to datetime\n",
    "engagement_df['time_stamp'] = pd.to_datetime(engagement_df['time_stamp'])"
   ]
  },
  {
   "cell_type": "code",
   "execution_count": 7,
   "id": "131ab098",
   "metadata": {},
   "outputs": [
    {
     "name": "stdout",
     "output_type": "stream",
     "text": [
      "object_id                              int64\n",
      "creation_time                 datetime64[ns]\n",
      "name                                  object\n",
      "email                                 object\n",
      "creation_source                       object\n",
      "last_session_creation_time    datetime64[ns]\n",
      "opted_in_to_mailing_list               int64\n",
      "enabled_for_marketing_drip             int64\n",
      "org_id                                 int64\n",
      "invited_by_user_id                   float64\n",
      "dtype: object\n",
      "time_stamp    datetime64[ns]\n",
      "user_id                int64\n",
      "visited                int64\n",
      "dtype: object\n"
     ]
    }
   ],
   "source": [
    "# dtypes of dataframes\n",
    "print(users_df.dtypes)\n",
    "print(engagement_df.dtypes)"
   ]
  },
  {
   "cell_type": "code",
   "execution_count": 8,
   "id": "65e39165",
   "metadata": {},
   "outputs": [
    {
     "name": "stdout",
     "output_type": "stream",
     "text": [
      "Missing values in users_df:\n",
      "object_id                        0\n",
      "creation_time                    0\n",
      "name                             0\n",
      "email                            0\n",
      "creation_source                  0\n",
      "last_session_creation_time    3177\n",
      "opted_in_to_mailing_list         0\n",
      "enabled_for_marketing_drip       0\n",
      "org_id                           0\n",
      "invited_by_user_id            5583\n",
      "dtype: int64\n",
      "\n",
      "Missing values in engagement_df:\n",
      "time_stamp    0\n",
      "user_id       0\n",
      "visited       0\n",
      "dtype: int64\n"
     ]
    }
   ],
   "source": [
    "# Check for null values\n",
    "print(\"Missing values in users_df:\")\n",
    "print(users_df.isnull().sum())\n",
    "\n",
    "print(\"\\nMissing values in engagement_df:\")\n",
    "print(engagement_df.isnull().sum())"
   ]
  },
  {
   "cell_type": "code",
   "execution_count": 10,
   "id": "66de2c96",
   "metadata": {},
   "outputs": [
    {
     "name": "stdout",
     "output_type": "stream",
     "text": [
      "Number of users with missing last_session_creation_time: 3177\n",
      "creation_source\n",
      "PERSONAL_PROJECTS    1347\n",
      "ORG_INVITE           1066\n",
      "GUEST_INVITE          575\n",
      "SIGNUP                189\n",
      "Name: count, dtype: int64\n",
      "opted_in_to_mailing_list      0.241737\n",
      "enabled_for_marketing_drip    0.141958\n",
      "dtype: float64\n",
      "count     1641.000000\n",
      "mean      5911.913467\n",
      "std       3353.670938\n",
      "min          7.000000\n",
      "25%       2998.000000\n",
      "50%       5978.000000\n",
      "75%       8664.000000\n",
      "max      11999.000000\n",
      "Name: invited_by_user_id, dtype: float64\n",
      "    object_id       creation_time               name  \\\n",
      "7           8 2013-07-31 05:34:02  Hamilton Danielle   \n",
      "8           9 2013-11-05 04:04:24         Amsel Paul   \n",
      "11         12 2014-04-17 23:48:38    Mathiesen Lærke   \n",
      "14         15 2013-07-16 21:33:54        Theiss Ralf   \n",
      "15         16 2013-02-11 10:09:50         Engel René   \n",
      "\n",
      "                         email    creation_source last_session_creation_time  \\\n",
      "7   DanielleHamilton@yahoo.com  PERSONAL_PROJECTS                        NaT   \n",
      "8        PaulAmsel@hotmail.com  PERSONAL_PROJECTS                        NaT   \n",
      "11   LaerkeLMathiesen@cuvox.de         ORG_INVITE                        NaT   \n",
      "14      RalfTheiss@hotmail.com  PERSONAL_PROJECTS                        NaT   \n",
      "15       ReneEngel@hotmail.com  PERSONAL_PROJECTS                        NaT   \n",
      "\n",
      "    opted_in_to_mailing_list  enabled_for_marketing_drip  org_id  \\\n",
      "7                          1                           1      74   \n",
      "8                          0                           0     302   \n",
      "11                         0                           0     130   \n",
      "14                         0                           0     175   \n",
      "15                         0                           0     211   \n",
      "\n",
      "    invited_by_user_id  \n",
      "7                  NaN  \n",
      "8                  NaN  \n",
      "11              9270.0  \n",
      "14                 NaN  \n",
      "15                 NaN  \n"
     ]
    }
   ],
   "source": [
    "# Select rows where last_session_creation_time is missing\n",
    "missing_last_session = users_df[users_df['last_session_creation_time'].isna()]\n",
    "\n",
    "# Summary of missing last session users\n",
    "print(f\"Number of users with missing last_session_creation_time: {len(missing_last_session)}\")\n",
    "\n",
    "# Check creation_source distribution for missing last_session users\n",
    "print(missing_last_session['creation_source'].value_counts())\n",
    "\n",
    "# Check if these users opted into mailing list or marketing drip\n",
    "print(missing_last_session[['opted_in_to_mailing_list', 'enabled_for_marketing_drip']].mean())\n",
    "\n",
    "# Look at invited_by_user_id stats for these users\n",
    "print(missing_last_session['invited_by_user_id'].describe())\n",
    "\n",
    "# Optionally view a few sample rows\n",
    "print(missing_last_session.head())\n"
   ]
  },
  {
   "cell_type": "code",
   "execution_count": null,
   "id": "1f758605",
   "metadata": {},
   "outputs": [],
   "source": [
    "# Users missing login seem to be guest invites or org invites that never actually logged in, thus we have no use for them in this analysis\n",
    "users_df = users_df.dropna(subset=['last_session_creation_time']).reset_index(drop=True)"
   ]
  },
  {
   "cell_type": "code",
   "execution_count": 23,
   "id": "58d36338",
   "metadata": {},
   "outputs": [
    {
     "name": "stdout",
     "output_type": "stream",
     "text": [
      "Any user_id == 0? False\n",
      "Any invited_by_user_id == 0? False\n"
     ]
    }
   ],
   "source": [
    "# Confirm no user id of 0\n",
    "print(\"Any user_id == 0?\", (users_df['object_id'] == 0).any())\n",
    "print(\"Any invited_by_user_id == 0?\", (users_df['invited_by_user_id'] == 0).any())"
   ]
  },
  {
   "cell_type": "code",
   "execution_count": 24,
   "id": "9eacb0db",
   "metadata": {},
   "outputs": [],
   "source": [
    "# Fillna with 0 as a placeholder for self signups\n",
    "users_df['invited_by_user_id'].fillna(0, inplace=True)"
   ]
  },
  {
   "cell_type": "code",
   "execution_count": 25,
   "id": "af9d21b2",
   "metadata": {},
   "outputs": [
    {
     "name": "stdout",
     "output_type": "stream",
     "text": [
      "Missing values in users_df:\n",
      "object_id                     0\n",
      "creation_time                 0\n",
      "name                          0\n",
      "email                         0\n",
      "creation_source               0\n",
      "last_session_creation_time    0\n",
      "opted_in_to_mailing_list      0\n",
      "enabled_for_marketing_drip    0\n",
      "org_id                        0\n",
      "invited_by_user_id            0\n",
      "dtype: int64\n"
     ]
    }
   ],
   "source": [
    "# Check for null values\n",
    "print(\"Missing values in users_df:\")\n",
    "print(users_df.isnull().sum())"
   ]
  },
  {
   "cell_type": "code",
   "execution_count": 27,
   "id": "eb348d4f",
   "metadata": {},
   "outputs": [],
   "source": [
    "# create target adoption variable\n",
    "# Get only rows where a user visited\n",
    "visited_df = engagement_df[engagement_df['visited'] == 1].copy()"
   ]
  },
  {
   "cell_type": "code",
   "execution_count": 28,
   "id": "08f8a5ed",
   "metadata": {},
   "outputs": [],
   "source": [
    "# convert to date time and drop duplicates of same users logging in multiple times per day\n",
    "visited_df['time_stamp'] = pd.to_datetime(visited_df['time_stamp'])\n",
    "visited_df = visited_df.drop_duplicates(subset=['user_id', 'time_stamp'])"
   ]
  },
  {
   "cell_type": "code",
   "execution_count": 29,
   "id": "a7efce43",
   "metadata": {},
   "outputs": [],
   "source": [
    "# Group by user and sort\n",
    "visited_df = visited_df.sort_values(['user_id', 'time_stamp'])"
   ]
  },
  {
   "cell_type": "code",
   "execution_count": 31,
   "id": "47c9c10e",
   "metadata": {},
   "outputs": [],
   "source": [
    "# For each user use sliding window to check last 3 logins within 7 days\n",
    "adopted_users = set()\n",
    "grouped = visited_df.groupby('user_id')['time_stamp']\n",
    "\n",
    "for user_id, dates, in grouped:\n",
    "    dates = dates.sort_values().reset_index(drop=True)\n",
    "    for i in range(len(dates) -2):\n",
    "        if (dates[i+2]-dates[i]).days<=7:\n",
    "            adopted_users.add(user_id)\n",
    "            break"
   ]
  },
  {
   "cell_type": "code",
   "execution_count": 32,
   "id": "5c94faa4",
   "metadata": {},
   "outputs": [],
   "source": [
    "# create bnary target dataframe\n",
    "adopted_df = pd.DataFrame({'user_id': list(adopted_users), 'adopted': 1})"
   ]
  },
  {
   "cell_type": "code",
   "execution_count": 34,
   "id": "da55e135",
   "metadata": {},
   "outputs": [],
   "source": [
    "# add new column to users_df for adopted or not\n",
    "users_df['adopted_user'] = users_df['object_id'].isin(adopted_users).astype(int)"
   ]
  },
  {
   "cell_type": "code",
   "execution_count": 37,
   "id": "13703628",
   "metadata": {},
   "outputs": [
    {
     "data": {
      "text/html": [
       "<div>\n",
       "<style scoped>\n",
       "    .dataframe tbody tr th:only-of-type {\n",
       "        vertical-align: middle;\n",
       "    }\n",
       "\n",
       "    .dataframe tbody tr th {\n",
       "        vertical-align: top;\n",
       "    }\n",
       "\n",
       "    .dataframe thead th {\n",
       "        text-align: right;\n",
       "    }\n",
       "</style>\n",
       "<table border=\"1\" class=\"dataframe\">\n",
       "  <thead>\n",
       "    <tr style=\"text-align: right;\">\n",
       "      <th></th>\n",
       "      <th>object_id</th>\n",
       "      <th>creation_time</th>\n",
       "      <th>name</th>\n",
       "      <th>email</th>\n",
       "      <th>creation_source</th>\n",
       "      <th>last_session_creation_time</th>\n",
       "      <th>opted_in_to_mailing_list</th>\n",
       "      <th>enabled_for_marketing_drip</th>\n",
       "      <th>org_id</th>\n",
       "      <th>invited_by_user_id</th>\n",
       "      <th>adopted_user</th>\n",
       "    </tr>\n",
       "  </thead>\n",
       "  <tbody>\n",
       "    <tr>\n",
       "      <th>0</th>\n",
       "      <td>1</td>\n",
       "      <td>2014-04-22 03:53:30</td>\n",
       "      <td>Clausen August</td>\n",
       "      <td>AugustCClausen@yahoo.com</td>\n",
       "      <td>GUEST_INVITE</td>\n",
       "      <td>2014-04-22 03:53:30</td>\n",
       "      <td>1</td>\n",
       "      <td>0</td>\n",
       "      <td>11</td>\n",
       "      <td>10803.0</td>\n",
       "      <td>0</td>\n",
       "    </tr>\n",
       "    <tr>\n",
       "      <th>1</th>\n",
       "      <td>2</td>\n",
       "      <td>2013-11-15 03:45:04</td>\n",
       "      <td>Poole Matthew</td>\n",
       "      <td>MatthewPoole@gustr.com</td>\n",
       "      <td>ORG_INVITE</td>\n",
       "      <td>2014-03-31 03:45:04</td>\n",
       "      <td>0</td>\n",
       "      <td>0</td>\n",
       "      <td>1</td>\n",
       "      <td>316.0</td>\n",
       "      <td>1</td>\n",
       "    </tr>\n",
       "    <tr>\n",
       "      <th>2</th>\n",
       "      <td>3</td>\n",
       "      <td>2013-03-19 23:14:52</td>\n",
       "      <td>Bottrill Mitchell</td>\n",
       "      <td>MitchellBottrill@gustr.com</td>\n",
       "      <td>ORG_INVITE</td>\n",
       "      <td>2013-03-19 23:14:52</td>\n",
       "      <td>0</td>\n",
       "      <td>0</td>\n",
       "      <td>94</td>\n",
       "      <td>1525.0</td>\n",
       "      <td>0</td>\n",
       "    </tr>\n",
       "    <tr>\n",
       "      <th>3</th>\n",
       "      <td>4</td>\n",
       "      <td>2013-05-21 08:09:28</td>\n",
       "      <td>Clausen Nicklas</td>\n",
       "      <td>NicklasSClausen@yahoo.com</td>\n",
       "      <td>GUEST_INVITE</td>\n",
       "      <td>2013-05-22 08:09:28</td>\n",
       "      <td>0</td>\n",
       "      <td>0</td>\n",
       "      <td>1</td>\n",
       "      <td>5151.0</td>\n",
       "      <td>0</td>\n",
       "    </tr>\n",
       "    <tr>\n",
       "      <th>4</th>\n",
       "      <td>5</td>\n",
       "      <td>2013-01-17 10:14:20</td>\n",
       "      <td>Raw Grace</td>\n",
       "      <td>GraceRaw@yahoo.com</td>\n",
       "      <td>GUEST_INVITE</td>\n",
       "      <td>2013-01-22 10:14:20</td>\n",
       "      <td>0</td>\n",
       "      <td>0</td>\n",
       "      <td>193</td>\n",
       "      <td>5240.0</td>\n",
       "      <td>0</td>\n",
       "    </tr>\n",
       "  </tbody>\n",
       "</table>\n",
       "</div>"
      ],
      "text/plain": [
       "   object_id       creation_time               name  \\\n",
       "0          1 2014-04-22 03:53:30     Clausen August   \n",
       "1          2 2013-11-15 03:45:04      Poole Matthew   \n",
       "2          3 2013-03-19 23:14:52  Bottrill Mitchell   \n",
       "3          4 2013-05-21 08:09:28    Clausen Nicklas   \n",
       "4          5 2013-01-17 10:14:20          Raw Grace   \n",
       "\n",
       "                        email creation_source last_session_creation_time  \\\n",
       "0    AugustCClausen@yahoo.com    GUEST_INVITE        2014-04-22 03:53:30   \n",
       "1      MatthewPoole@gustr.com      ORG_INVITE        2014-03-31 03:45:04   \n",
       "2  MitchellBottrill@gustr.com      ORG_INVITE        2013-03-19 23:14:52   \n",
       "3   NicklasSClausen@yahoo.com    GUEST_INVITE        2013-05-22 08:09:28   \n",
       "4          GraceRaw@yahoo.com    GUEST_INVITE        2013-01-22 10:14:20   \n",
       "\n",
       "   opted_in_to_mailing_list  enabled_for_marketing_drip  org_id  \\\n",
       "0                         1                           0      11   \n",
       "1                         0                           0       1   \n",
       "2                         0                           0      94   \n",
       "3                         0                           0       1   \n",
       "4                         0                           0     193   \n",
       "\n",
       "   invited_by_user_id  adopted_user  \n",
       "0             10803.0             0  \n",
       "1               316.0             1  \n",
       "2              1525.0             0  \n",
       "3              5151.0             0  \n",
       "4              5240.0             0  "
      ]
     },
     "execution_count": 37,
     "metadata": {},
     "output_type": "execute_result"
    }
   ],
   "source": [
    "users_df.head()"
   ]
  },
  {
   "cell_type": "code",
   "execution_count": 38,
   "id": "91517ac7",
   "metadata": {},
   "outputs": [
    {
     "name": "stdout",
     "output_type": "stream",
     "text": [
      "Adoption rate: 18.77%\n"
     ]
    }
   ],
   "source": [
    "# Check rate of adoption\n",
    "adoption_rate = users_df['adopted_user'].mean()\n",
    "print(f\"Adoption rate: {adoption_rate:.2%}\")"
   ]
  },
  {
   "cell_type": "code",
   "execution_count": 42,
   "id": "1d788533",
   "metadata": {},
   "outputs": [
    {
     "name": "stdout",
     "output_type": "stream",
     "text": [
      "creation_source\n",
      "SIGNUP                0.159115\n",
      "SIGNUP_GOOGLE_AUTH    0.172563\n",
      "ORG_INVITE            0.180050\n",
      "PERSONAL_PROJECTS     0.225131\n",
      "GUEST_INVITE          0.232368\n",
      "Name: adopted_user, dtype: float64\n"
     ]
    },
    {
     "data": {
      "image/png": "[encoded data removed]",
      "text/plain": [
       "<Figure size 800x400 with 1 Axes>"
      ]
     },
     "metadata": {},
     "output_type": "display_data"
    }
   ],
   "source": [
    "# Adoption rate by creation_source\n",
    "creation_source_adopt = users_df.groupby('creation_source')['adopted_user'].mean().sort_values()\n",
    "print(creation_source_adopt)\n",
    "\n",
    "plt.figure(figsize=(8,4))\n",
    "sns.barplot(x=creation_source_adopt.index, y=creation_source_adopt.values)\n",
    "plt.title('Adoption Rate by Creation Source')\n",
    "plt.ylabel('Adoption Rate')\n",
    "plt.xticks(rotation=45)\n",
    "plt.show()"
   ]
  },
  {
   "cell_type": "code",
   "execution_count": 43,
   "id": "7768093d",
   "metadata": {},
   "outputs": [
    {
     "name": "stdout",
     "output_type": "stream",
     "text": [
      "opted_in_to_mailing_list\n",
      "0    0.185994\n",
      "1    0.192722\n",
      "Name: adopted_user, dtype: float64\n"
     ]
    },
    {
     "data": {
      "image/png": "[encoded data removed]",
      "text/plain": [
       "<Figure size 640x480 with 1 Axes>"
      ]
     },
     "metadata": {},
     "output_type": "display_data"
    }
   ],
   "source": [
    "# Adoption rate by mailing list opt-in\n",
    "mailing_adopt = users_df.groupby('opted_in_to_mailing_list')['adopted_user'].mean()\n",
    "print(mailing_adopt)\n",
    "\n",
    "sns.barplot(x=mailing_adopt.index, y=mailing_adopt.values)\n",
    "plt.title('Adoption Rate by Mailing List Opt-In')\n",
    "plt.ylabel('Adoption Rate')\n",
    "plt.xticks([0,1], ['No', 'Yes'])\n",
    "plt.show()"
   ]
  },
  {
   "cell_type": "code",
   "execution_count": 48,
   "id": "e64c2268",
   "metadata": {},
   "outputs": [
    {
     "data": {
      "image/png": "[encoded data removed]",
      "text/plain": [
       "<Figure size 800x400 with 1 Axes>"
      ]
     },
     "metadata": {},
     "output_type": "display_data"
    }
   ],
   "source": [
    "# Numerical feature: days since creation\n",
    "max_date = users_df['last_session_creation_time'].max()\n",
    "users_df['days_since_creation'] = (max_date - users_df['creation_time']).dt.days\n",
    "\n",
    "plt.figure(figsize=(8,4))\n",
    "sns.boxplot(x='adopted_user', y='days_since_creation', data=users_df)\n",
    "plt.title('Days Since Creation by Adoption Status')\n",
    "plt.xlabel('Adopted User')\n",
    "plt.ylabel('Days Since Account Creation')\n",
    "plt.show()"
   ]
  },
  {
   "cell_type": "markdown",
   "id": "0ac1be70",
   "metadata": {},
   "source": [
    "Preprocessing"
   ]
  },
  {
   "cell_type": "code",
   "execution_count": null,
   "id": "0d8a4482",
   "metadata": {},
   "outputs": [
    {
     "data": {
      "text/plain": [
       "object_id                              int64\n",
       "creation_time                 datetime64[ns]\n",
       "name                                  object\n",
       "email                                 object\n",
       "creation_source                       object\n",
       "last_session_creation_time    datetime64[ns]\n",
       "opted_in_to_mailing_list               int64\n",
       "enabled_for_marketing_drip             int64\n",
       "org_id                                 int64\n",
       "invited_by_user_id                   float64\n",
       "adopted_user                           int64\n",
       "days_since_creation                    int64\n",
       "days_since_last_session                int64\n",
       "dtype: object"
      ]
     },
     "execution_count": 49,
     "metadata": {},
     "output_type": "execute_result"
    }
   ],
   "source": [
    "# Dtype check\n",
    "users_df.dtypes"
   ]
  },
  {
   "cell_type": "code",
   "execution_count": 50,
   "id": "c0bc20a9",
   "metadata": {},
   "outputs": [],
   "source": [
    "# Drop columns\n",
    "df = users_df.drop(columns=['name', 'object_id', 'email', 'creation_time', 'last_session_creation_time'])"
   ]
  },
  {
   "cell_type": "code",
   "execution_count": 51,
   "id": "9e6070ec",
   "metadata": {},
   "outputs": [],
   "source": [
    "# One-hot encode creation_source\n",
    "df = pd.get_dummies(df, columns=['creation_source'], drop_first=True)"
   ]
  },
  {
   "cell_type": "code",
   "execution_count": 52,
   "id": "c58ddf24",
   "metadata": {},
   "outputs": [
    {
     "data": {
      "text/html": [
       "<div>\n",
       "<style scoped>\n",
       "    .dataframe tbody tr th:only-of-type {\n",
       "        vertical-align: middle;\n",
       "    }\n",
       "\n",
       "    .dataframe tbody tr th {\n",
       "        vertical-align: top;\n",
       "    }\n",
       "\n",
       "    .dataframe thead th {\n",
       "        text-align: right;\n",
       "    }\n",
       "</style>\n",
       "<table border=\"1\" class=\"dataframe\">\n",
       "  <thead>\n",
       "    <tr style=\"text-align: right;\">\n",
       "      <th></th>\n",
       "      <th>opted_in_to_mailing_list</th>\n",
       "      <th>enabled_for_marketing_drip</th>\n",
       "      <th>org_id</th>\n",
       "      <th>invited_by_user_id</th>\n",
       "      <th>adopted_user</th>\n",
       "      <th>days_since_creation</th>\n",
       "      <th>days_since_last_session</th>\n",
       "      <th>creation_source_ORG_INVITE</th>\n",
       "      <th>creation_source_PERSONAL_PROJECTS</th>\n",
       "      <th>creation_source_SIGNUP</th>\n",
       "      <th>creation_source_SIGNUP_GOOGLE_AUTH</th>\n",
       "    </tr>\n",
       "  </thead>\n",
       "  <tbody>\n",
       "    <tr>\n",
       "      <th>0</th>\n",
       "      <td>1</td>\n",
       "      <td>0</td>\n",
       "      <td>11</td>\n",
       "      <td>10803.0</td>\n",
       "      <td>0</td>\n",
       "      <td>45</td>\n",
       "      <td>4110</td>\n",
       "      <td>False</td>\n",
       "      <td>False</td>\n",
       "      <td>False</td>\n",
       "      <td>False</td>\n",
       "    </tr>\n",
       "    <tr>\n",
       "      <th>1</th>\n",
       "      <td>0</td>\n",
       "      <td>0</td>\n",
       "      <td>1</td>\n",
       "      <td>316.0</td>\n",
       "      <td>1</td>\n",
       "      <td>203</td>\n",
       "      <td>4132</td>\n",
       "      <td>True</td>\n",
       "      <td>False</td>\n",
       "      <td>False</td>\n",
       "      <td>False</td>\n",
       "    </tr>\n",
       "    <tr>\n",
       "      <th>2</th>\n",
       "      <td>0</td>\n",
       "      <td>0</td>\n",
       "      <td>94</td>\n",
       "      <td>1525.0</td>\n",
       "      <td>0</td>\n",
       "      <td>443</td>\n",
       "      <td>4508</td>\n",
       "      <td>True</td>\n",
       "      <td>False</td>\n",
       "      <td>False</td>\n",
       "      <td>False</td>\n",
       "    </tr>\n",
       "    <tr>\n",
       "      <th>3</th>\n",
       "      <td>0</td>\n",
       "      <td>0</td>\n",
       "      <td>1</td>\n",
       "      <td>5151.0</td>\n",
       "      <td>0</td>\n",
       "      <td>381</td>\n",
       "      <td>4445</td>\n",
       "      <td>False</td>\n",
       "      <td>False</td>\n",
       "      <td>False</td>\n",
       "      <td>False</td>\n",
       "    </tr>\n",
       "    <tr>\n",
       "      <th>4</th>\n",
       "      <td>0</td>\n",
       "      <td>0</td>\n",
       "      <td>193</td>\n",
       "      <td>5240.0</td>\n",
       "      <td>0</td>\n",
       "      <td>505</td>\n",
       "      <td>4565</td>\n",
       "      <td>False</td>\n",
       "      <td>False</td>\n",
       "      <td>False</td>\n",
       "      <td>False</td>\n",
       "    </tr>\n",
       "  </tbody>\n",
       "</table>\n",
       "</div>"
      ],
      "text/plain": [
       "   opted_in_to_mailing_list  enabled_for_marketing_drip  org_id  \\\n",
       "0                         1                           0      11   \n",
       "1                         0                           0       1   \n",
       "2                         0                           0      94   \n",
       "3                         0                           0       1   \n",
       "4                         0                           0     193   \n",
       "\n",
       "   invited_by_user_id  adopted_user  days_since_creation  \\\n",
       "0             10803.0             0                   45   \n",
       "1               316.0             1                  203   \n",
       "2              1525.0             0                  443   \n",
       "3              5151.0             0                  381   \n",
       "4              5240.0             0                  505   \n",
       "\n",
       "   days_since_last_session  creation_source_ORG_INVITE  \\\n",
       "0                     4110                       False   \n",
       "1                     4132                        True   \n",
       "2                     4508                        True   \n",
       "3                     4445                       False   \n",
       "4                     4565                       False   \n",
       "\n",
       "   creation_source_PERSONAL_PROJECTS  creation_source_SIGNUP  \\\n",
       "0                              False                   False   \n",
       "1                              False                   False   \n",
       "2                              False                   False   \n",
       "3                              False                   False   \n",
       "4                              False                   False   \n",
       "\n",
       "   creation_source_SIGNUP_GOOGLE_AUTH  \n",
       "0                               False  \n",
       "1                               False  \n",
       "2                               False  \n",
       "3                               False  \n",
       "4                               False  "
      ]
     },
     "execution_count": 52,
     "metadata": {},
     "output_type": "execute_result"
    }
   ],
   "source": [
    "df.head()"
   ]
  },
  {
   "cell_type": "code",
   "execution_count": null,
   "id": "ce2deaef",
   "metadata": {},
   "outputs": [],
   "source": [
    "# Split into 80/20 train test split, stratify due to imbalanced data\n",
    "X = df.drop('adopted_user', axis=1)\n",
    "y = df['adopted_user']\n",
    "\n",
    "X_train, X_test, y_train, y_test = train_test_split(\n",
    "    X, y, test_size=0.2, random_state=42, stratify=y)"
   ]
  },
  {
   "cell_type": "code",
   "execution_count": 59,
   "id": "52f7b6e4",
   "metadata": {},
   "outputs": [],
   "source": [
    "# Initialize random forest and logistic regression models\n",
    "models = {\n",
    "    \"Logistic Regression\": Pipeline([\n",
    "        ('scaler', StandardScaler()),\n",
    "        ('logreg', LogisticRegression(random_state=42))\n",
    "    ]),\n",
    "    \"Random Forest\": Pipeline([\n",
    "        ('rf', RandomForestClassifier(random_state=42))\n",
    "    ])\n",
    "}"
   ]
  },
  {
   "cell_type": "code",
   "execution_count": 60,
   "id": "398fe266",
   "metadata": {},
   "outputs": [
    {
     "name": "stdout",
     "output_type": "stream",
     "text": [
      "\n",
      "Logistic Regression Confusion Matrix:\n",
      "[[1421   13]\n",
      " [  48  283]]\n",
      "\n",
      "Logistic Regression Classification Report:\n",
      "              precision    recall  f1-score   support\n",
      "\n",
      "           0       0.97      0.99      0.98      1434\n",
      "           1       0.96      0.85      0.90       331\n",
      "\n",
      "    accuracy                           0.97      1765\n",
      "   macro avg       0.96      0.92      0.94      1765\n",
      "weighted avg       0.97      0.97      0.96      1765\n",
      "\n",
      "Logistic Regression ROC AUC Score: 0.9843\n",
      "\n",
      "----------------------------------------\n",
      "\n",
      "\n",
      "Random Forest Confusion Matrix:\n",
      "[[1420   14]\n",
      " [  67  264]]\n",
      "\n",
      "Random Forest Classification Report:\n",
      "              precision    recall  f1-score   support\n",
      "\n",
      "           0       0.95      0.99      0.97      1434\n",
      "           1       0.95      0.80      0.87       331\n",
      "\n",
      "    accuracy                           0.95      1765\n",
      "   macro avg       0.95      0.89      0.92      1765\n",
      "weighted avg       0.95      0.95      0.95      1765\n",
      "\n",
      "Random Forest ROC AUC Score: 0.9718\n",
      "\n",
      "----------------------------------------\n",
      "\n"
     ]
    }
   ],
   "source": [
    "# Loop to produce both models and evaluation metrics\n",
    "for name, model in models.items():\n",
    "    model.fit(X_train, y_train)\n",
    "    y_pred = model.predict(X_test)\n",
    "    y_proba = model.predict_proba(X_test)[:, 1]\n",
    "    \n",
    "    print(f\"\\n{name} Confusion Matrix:\")\n",
    "    print(confusion_matrix(y_test, y_pred))\n",
    "    print(f\"\\n{name} Classification Report:\")\n",
    "    print(classification_report(y_test, y_pred))\n",
    "    print(f\"{name} ROC AUC Score: {roc_auc_score(y_test, y_proba):.4f}\")\n",
    "    print(\"\\n\" + \"-\"*40 + \"\\n\")\n"
   ]
  },
  {
   "cell_type": "markdown",
   "id": "3bd865e3",
   "metadata": {},
   "source": [
    "We used user and engagement data to predict whether users adopted the product, defined as logging in three times in one week. After cleaning and basic feature engineering, we tested logistic regression and random forest models without tuning. Logistic regression performed best with about 97% accuracy and good recall. Adoption was more common for users invited through guests or personal projects and those with older accounts. These initial models show promise but need further tuning and more data to improve. Ultimate can use these insights to focus retention efforts on key user groups."
   ]
  }
 ],
 "metadata": {
  "kernelspec": {
   "display_name": "base",
   "language": "python",
   "name": "python3"
  },
  "language_info": {
   "codemirror_mode": {
    "name": "ipython",
    "version": 3
   },
   "file_extension": ".py",
   "mimetype": "text/x-python",
   "name": "python",
   "nbconvert_exporter": "python",
   "pygments_lexer": "ipython3",
   "version": "3.12.7"
  }
 },
 "nbformat": 4,
 "nbformat_minor": 5
}
